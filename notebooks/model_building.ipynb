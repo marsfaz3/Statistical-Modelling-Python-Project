{
 "cells": [
  {
   "cell_type": "markdown",
   "metadata": {},
   "source": [
    "Build a regression model."
   ]
  },
  {
   "cell_type": "code",
   "execution_count": 4,
   "metadata": {},
   "outputs": [],
   "source": [
    "import numpy as np\n",
    "import pandas as pd\n",
    "\n",
    "from sklearn import linear_model, datasets\n",
    "import statsmodels.api as sm\n",
    "\n",
    "import sqlite3\n",
    "from sqlalchemy import create_engine"
   ]
  },
  {
   "cell_type": "code",
   "execution_count": 7,
   "metadata": {},
   "outputs": [
    {
     "name": "stdout",
     "output_type": "stream",
     "text": [
      "      query_latitude  query_longitude  num_categories  \\\n",
      "0          43.685924       -79.376304               1   \n",
      "1          43.685924       -79.376304               3   \n",
      "2          43.685924       -79.376304               1   \n",
      "3          43.685924       -79.376304               1   \n",
      "4          43.685924       -79.376304               3   \n",
      "...              ...              ...             ...   \n",
      "4647       43.649192       -79.383632               1   \n",
      "4648       43.649192       -79.383632               2   \n",
      "4649       43.649192       -79.383632               3   \n",
      "4650       43.649192       -79.383632               1   \n",
      "4651       43.649192       -79.383632               2   \n",
      "\n",
      "                                  name     distance  num_attributes  \\\n",
      "0                    Rosedale's Finest    27.000000               0   \n",
      "1                         Dolce Bakery    38.000000               0   \n",
      "2                 Kirkwood's Rib Joint   876.000000               0   \n",
      "3              Picnic Cafe & Wine Shop   897.000000               0   \n",
      "4                     Holly Berry Fair   381.000000               0   \n",
      "...                                ...          ...             ...   \n",
      "4647  jacobs-and-co-steakhouse-toronto  1232.682702               1   \n",
      "4648                 katsuya-toronto-5  1259.535103               1   \n",
      "4649            the-carbon-bar-toronto   831.895487               1   \n",
      "4650                   carisma-toronto   634.411930               1   \n",
      "4651       george-restaurant-toronto-3   881.093129               1   \n",
      "\n",
      "          source  \n",
      "0     foursquare  \n",
      "1     foursquare  \n",
      "2     foursquare  \n",
      "3     foursquare  \n",
      "4     foursquare  \n",
      "...          ...  \n",
      "4647        yelp  \n",
      "4648        yelp  \n",
      "4649        yelp  \n",
      "4650        yelp  \n",
      "4651        yelp  \n",
      "\n",
      "[4652 rows x 7 columns]\n"
     ]
    }
   ],
   "source": [
    "# Create a connection to the SQLite database\n",
    "engine = create_engine('sqlite:///../data/bike_station_pois.db')\n",
    "\n",
    "# Define the SQL query to extract relevant fields and calculate PF\n",
    "SQL = \"\"\"\n",
    "SELECT \n",
    "    *\n",
    "FROM joined_pois\n",
    "\"\"\"\n",
    "\n",
    "# Read the query result into a Pandas DataFrame\n",
    "pois = pd.read_sql_query(SQL, engine)\n",
    "\n",
    "# Display the resulting DataFrame\n",
    "print(pois)\n"
   ]
  },
  {
   "cell_type": "code",
   "execution_count": 6,
   "metadata": {},
   "outputs": [
    {
     "name": "stdout",
     "output_type": "stream",
     "text": [
      "     Unnamed: 0   latitude  longitude  free_bikes\n",
      "0             0  43.685924 -79.376304           0\n",
      "1             1  43.667763 -79.308117          12\n",
      "2             2  43.691468 -79.288619           2\n",
      "3             3  43.640722 -79.391051           2\n",
      "4             4  43.643834 -79.396649          13\n",
      "..          ...        ...        ...         ...\n",
      "872         872  43.645209 -79.396074          18\n",
      "873         873  43.683378 -79.322961           4\n",
      "874         874  43.658988 -79.438715           1\n",
      "875         875  43.683351 -79.415620           0\n",
      "876         876  43.655351 -79.383460          33\n",
      "\n",
      "[877 rows x 4 columns]\n"
     ]
    }
   ],
   "source": [
    "# Define the SQL query to extract relevant fields and calculate PF\n",
    "SQL = \"\"\"\n",
    "SELECT \n",
    "    *\n",
    "FROM bike_stations\n",
    "\"\"\"\n",
    "\n",
    "# Read the query result into a Pandas DataFrame\n",
    "bike_stations = pd.read_sql_query(SQL, engine)\n",
    "\n",
    "bike_stations = bike_stations.drop(columns = 'Unnamed: 0')\n",
    "\n",
    "# Display the resulting DataFrame\n",
    "print(bike_stations)\n"
   ]
  },
  {
   "cell_type": "code",
   "execution_count": 16,
   "metadata": {},
   "outputs": [
    {
     "data": {
      "text/html": [
       "<div>\n",
       "<style scoped>\n",
       "    .dataframe tbody tr th:only-of-type {\n",
       "        vertical-align: middle;\n",
       "    }\n",
       "\n",
       "    .dataframe tbody tr th {\n",
       "        vertical-align: top;\n",
       "    }\n",
       "\n",
       "    .dataframe thead th {\n",
       "        text-align: right;\n",
       "    }\n",
       "</style>\n",
       "<table border=\"1\" class=\"dataframe\">\n",
       "  <thead>\n",
       "    <tr style=\"text-align: right;\">\n",
       "      <th></th>\n",
       "      <th>query_latitude</th>\n",
       "      <th>query_longitude</th>\n",
       "      <th>num_categories</th>\n",
       "      <th>name</th>\n",
       "      <th>distance</th>\n",
       "      <th>num_attributes</th>\n",
       "      <th>source</th>\n",
       "      <th>free_bikes</th>\n",
       "    </tr>\n",
       "  </thead>\n",
       "  <tbody>\n",
       "    <tr>\n",
       "      <th>0</th>\n",
       "      <td>43.685924</td>\n",
       "      <td>-79.376304</td>\n",
       "      <td>1</td>\n",
       "      <td>Rosedale's Finest</td>\n",
       "      <td>27.0</td>\n",
       "      <td>0</td>\n",
       "      <td>foursquare</td>\n",
       "      <td>0</td>\n",
       "    </tr>\n",
       "    <tr>\n",
       "      <th>1</th>\n",
       "      <td>43.685924</td>\n",
       "      <td>-79.376304</td>\n",
       "      <td>3</td>\n",
       "      <td>Dolce Bakery</td>\n",
       "      <td>38.0</td>\n",
       "      <td>0</td>\n",
       "      <td>foursquare</td>\n",
       "      <td>0</td>\n",
       "    </tr>\n",
       "    <tr>\n",
       "      <th>2</th>\n",
       "      <td>43.685924</td>\n",
       "      <td>-79.376304</td>\n",
       "      <td>1</td>\n",
       "      <td>Kirkwood's Rib Joint</td>\n",
       "      <td>876.0</td>\n",
       "      <td>0</td>\n",
       "      <td>foursquare</td>\n",
       "      <td>0</td>\n",
       "    </tr>\n",
       "    <tr>\n",
       "      <th>3</th>\n",
       "      <td>43.685924</td>\n",
       "      <td>-79.376304</td>\n",
       "      <td>1</td>\n",
       "      <td>Picnic Cafe &amp; Wine Shop</td>\n",
       "      <td>897.0</td>\n",
       "      <td>0</td>\n",
       "      <td>foursquare</td>\n",
       "      <td>0</td>\n",
       "    </tr>\n",
       "    <tr>\n",
       "      <th>4</th>\n",
       "      <td>43.685924</td>\n",
       "      <td>-79.376304</td>\n",
       "      <td>3</td>\n",
       "      <td>Holly Berry Fair</td>\n",
       "      <td>381.0</td>\n",
       "      <td>0</td>\n",
       "      <td>foursquare</td>\n",
       "      <td>0</td>\n",
       "    </tr>\n",
       "  </tbody>\n",
       "</table>\n",
       "</div>"
      ],
      "text/plain": [
       "   query_latitude  query_longitude  num_categories                     name  \\\n",
       "0       43.685924       -79.376304               1        Rosedale's Finest   \n",
       "1       43.685924       -79.376304               3             Dolce Bakery   \n",
       "2       43.685924       -79.376304               1     Kirkwood's Rib Joint   \n",
       "3       43.685924       -79.376304               1  Picnic Cafe & Wine Shop   \n",
       "4       43.685924       -79.376304               3         Holly Berry Fair   \n",
       "\n",
       "   distance  num_attributes      source  free_bikes  \n",
       "0      27.0               0  foursquare           0  \n",
       "1      38.0               0  foursquare           0  \n",
       "2     876.0               0  foursquare           0  \n",
       "3     897.0               0  foursquare           0  \n",
       "4     381.0               0  foursquare           0  "
      ]
     },
     "execution_count": 16,
     "metadata": {},
     "output_type": "execute_result"
    }
   ],
   "source": [
    "alldata = pd.merge(\n",
    "    left = pois, \n",
    "    right = bike_stations,\n",
    "    how = 'left',\n",
    "    left_on = ['query_latitude', 'query_longitude'],\n",
    "    right_on = ['latitude', 'longitude']\n",
    ")\n",
    "\n",
    "alldata = alldata.drop(columns = ['longitude', 'latitude'])\n",
    "\n",
    "alldata.head()"
   ]
  },
  {
   "cell_type": "code",
   "execution_count": 45,
   "metadata": {},
   "outputs": [
    {
     "name": "stdout",
     "output_type": "stream",
     "text": [
      "                                                 lat       long      source  \\\n",
      "query_longitude query_latitude source                                         \n",
      "-79.503016      43.662540      foursquare  43.662540 -79.503016  foursquare   \n",
      "                               yelp        43.662540 -79.503016        yelp   \n",
      "-79.500500      43.774100      foursquare  43.774100 -79.500500  foursquare   \n",
      "                               yelp        43.774100 -79.500500        yelp   \n",
      "-79.500027      43.760740      foursquare  43.760740 -79.500027  foursquare   \n",
      "...                                              ...        ...         ...   \n",
      "-79.229204      43.726902      yelp        43.726902 -79.229204        yelp   \n",
      "-79.209707      43.745311      foursquare  43.745311 -79.209707  foursquare   \n",
      "                               yelp        43.745311 -79.209707        yelp   \n",
      "-79.130120      43.780550      foursquare  43.780550 -79.130120  foursquare   \n",
      "                               yelp        43.780550 -79.130120        yelp   \n",
      "\n",
      "                                           free_bikes     distance  poi_count  \\\n",
      "query_longitude query_latitude source                                           \n",
      "-79.503016      43.662540      foursquare          14   660.266667         15   \n",
      "                               yelp                14  1192.041572         50   \n",
      "-79.500500      43.774100      foursquare           0   425.480000         50   \n",
      "                               yelp                 0   599.928497         50   \n",
      "-79.500027      43.760740      foursquare           1   766.826087         46   \n",
      "...                                               ...          ...        ...   \n",
      "-79.229204      43.726902      yelp                 8  1159.456088         50   \n",
      "-79.209707      43.745311      foursquare           7   675.485714         35   \n",
      "                               yelp                 7   975.419987         50   \n",
      "-79.130120      43.780550      foursquare          23   647.500000          6   \n",
      "                               yelp                23  1058.502106          8   \n",
      "\n",
      "                                           num_attributes  num_categories  \n",
      "query_longitude query_latitude source                                      \n",
      "-79.503016      43.662540      foursquare           0.000        1.600000  \n",
      "                               yelp                 0.440        2.000000  \n",
      "-79.500500      43.774100      foursquare           0.000        1.660000  \n",
      "                               yelp                 0.580        1.800000  \n",
      "-79.500027      43.760740      foursquare           0.000        1.565217  \n",
      "...                                                   ...             ...  \n",
      "-79.229204      43.726902      yelp                 0.480        2.040000  \n",
      "-79.209707      43.745311      foursquare           0.000        1.571429  \n",
      "                               yelp                 0.400        1.940000  \n",
      "-79.130120      43.780550      foursquare           0.000        1.500000  \n",
      "                               yelp                 0.375        1.625000  \n",
      "\n",
      "[100 rows x 8 columns]\n"
     ]
    }
   ],
   "source": [
    "grouped_alldata = alldata.groupby(['query_longitude', 'query_latitude', 'source']).agg(\n",
    "    lat=('query_latitude', 'last'),\n",
    "    long=('query_longitude', 'last'),\n",
    "    source=('source', 'last'),\n",
    "    free_bikes=('free_bikes', 'last'),\n",
    "    distance=('distance', 'mean'),\n",
    "    poi_count=('name', 'count'),\n",
    "    num_attributes=('num_attributes', 'mean'),\n",
    "    num_categories=('num_categories', 'mean')\n",
    ")\n",
    "\n",
    "print(grouped_alldata)\n"
   ]
  },
  {
   "cell_type": "code",
   "execution_count": 47,
   "metadata": {},
   "outputs": [
    {
     "name": "stdout",
     "output_type": "stream",
     "text": [
      "                                           source_yelp\n",
      "query_longitude query_latitude source                 \n",
      "-79.503016      43.662540      foursquare            0\n",
      "                               yelp                  1\n",
      "-79.500500      43.774100      foursquare            0\n",
      "                               yelp                  1\n",
      "-79.500027      43.760740      foursquare            0\n",
      "...                                                ...\n",
      "-79.229204      43.726902      yelp                  1\n",
      "-79.209707      43.745311      foursquare            0\n",
      "                               yelp                  1\n",
      "-79.130120      43.780550      foursquare            0\n",
      "                               yelp                  1\n",
      "\n",
      "[100 rows x 1 columns]\n",
      "                                                 lat       long  free_bikes  \\\n",
      "query_longitude query_latitude source                                         \n",
      "-79.503016      43.662540      foursquare  43.662540 -79.503016          14   \n",
      "                               yelp        43.662540 -79.503016          14   \n",
      "-79.500500      43.774100      foursquare  43.774100 -79.500500           0   \n",
      "                               yelp        43.774100 -79.500500           0   \n",
      "-79.500027      43.760740      foursquare  43.760740 -79.500027           1   \n",
      "...                                              ...        ...         ...   \n",
      "-79.229204      43.726902      yelp        43.726902 -79.229204           8   \n",
      "-79.209707      43.745311      foursquare  43.745311 -79.209707           7   \n",
      "                               yelp        43.745311 -79.209707           7   \n",
      "-79.130120      43.780550      foursquare  43.780550 -79.130120          23   \n",
      "                               yelp        43.780550 -79.130120          23   \n",
      "\n",
      "                                              distance  poi_count  \\\n",
      "query_longitude query_latitude source                               \n",
      "-79.503016      43.662540      foursquare   660.266667         15   \n",
      "                               yelp        1192.041572         50   \n",
      "-79.500500      43.774100      foursquare   425.480000         50   \n",
      "                               yelp         599.928497         50   \n",
      "-79.500027      43.760740      foursquare   766.826087         46   \n",
      "...                                                ...        ...   \n",
      "-79.229204      43.726902      yelp        1159.456088         50   \n",
      "-79.209707      43.745311      foursquare   675.485714         35   \n",
      "                               yelp         975.419987         50   \n",
      "-79.130120      43.780550      foursquare   647.500000          6   \n",
      "                               yelp        1058.502106          8   \n",
      "\n",
      "                                           num_attributes  num_categories  \\\n",
      "query_longitude query_latitude source                                       \n",
      "-79.503016      43.662540      foursquare           0.000        1.600000   \n",
      "                               yelp                 0.440        2.000000   \n",
      "-79.500500      43.774100      foursquare           0.000        1.660000   \n",
      "                               yelp                 0.580        1.800000   \n",
      "-79.500027      43.760740      foursquare           0.000        1.565217   \n",
      "...                                                   ...             ...   \n",
      "-79.229204      43.726902      yelp                 0.480        2.040000   \n",
      "-79.209707      43.745311      foursquare           0.000        1.571429   \n",
      "                               yelp                 0.400        1.940000   \n",
      "-79.130120      43.780550      foursquare           0.000        1.500000   \n",
      "                               yelp                 0.375        1.625000   \n",
      "\n",
      "                                           source_yelp  \n",
      "query_longitude query_latitude source                   \n",
      "-79.503016      43.662540      foursquare            0  \n",
      "                               yelp                  1  \n",
      "-79.500500      43.774100      foursquare            0  \n",
      "                               yelp                  1  \n",
      "-79.500027      43.760740      foursquare            0  \n",
      "...                                                ...  \n",
      "-79.229204      43.726902      yelp                  1  \n",
      "-79.209707      43.745311      foursquare            0  \n",
      "                               yelp                  1  \n",
      "-79.130120      43.780550      foursquare            0  \n",
      "                               yelp                  1  \n",
      "\n",
      "[100 rows x 8 columns]\n"
     ]
    }
   ],
   "source": [
    "dummies = pd.get_dummies(grouped_alldata['source'], prefix='source', drop_first=True, dtype=int)\n",
    "print(dummies)\n",
    "\n",
    "# Concatenate the original DataFrame with the new dummy DataFrame\n",
    "grouped_alldata = pd.concat([grouped_alldata.drop(columns = 'source'), dummies], axis=1)\n",
    "print(grouped_alldata)"
   ]
  },
  {
   "cell_type": "code",
   "execution_count": 48,
   "metadata": {},
   "outputs": [],
   "source": [
    "X = grouped_alldata[['source_yelp', 'distance', 'poi_count', 'num_attributes', 'num_categories']]\n",
    "y = grouped_alldata[['free_bikes']]\n",
    "\n",
    "X = sm.add_constant(X) # adding a constant"
   ]
  },
  {
   "cell_type": "code",
   "execution_count": 49,
   "metadata": {},
   "outputs": [],
   "source": [
    "lin_reg = sm.OLS(y,X)"
   ]
  },
  {
   "cell_type": "markdown",
   "metadata": {},
   "source": [
    "Provide model output and an interpretation of the results. "
   ]
  },
  {
   "cell_type": "code",
   "execution_count": 50,
   "metadata": {},
   "outputs": [
    {
     "name": "stdout",
     "output_type": "stream",
     "text": [
      "                            OLS Regression Results                            \n",
      "==============================================================================\n",
      "Dep. Variable:             free_bikes   R-squared:                       0.111\n",
      "Model:                            OLS   Adj. R-squared:                  0.064\n",
      "Method:                 Least Squares   F-statistic:                     2.358\n",
      "Date:                Sat, 26 Apr 2025   Prob (F-statistic):             0.0461\n",
      "Time:                        16:29:51   Log-Likelihood:                -341.68\n",
      "No. Observations:                 100   AIC:                             695.4\n",
      "Df Residuals:                      94   BIC:                             711.0\n",
      "Df Model:                           5                                         \n",
      "Covariance Type:            nonrobust                                         \n",
      "==================================================================================\n",
      "                     coef    std err          t      P>|t|      [0.025      0.975]\n",
      "----------------------------------------------------------------------------------\n",
      "const              2.0399      8.904      0.229      0.819     -15.638      19.718\n",
      "source_yelp       -2.1575      5.938     -0.363      0.717     -13.947       9.632\n",
      "distance          -0.0073      0.004     -2.054      0.043      -0.014      -0.000\n",
      "poi_count         -0.1265      0.078     -1.617      0.109      -0.282       0.029\n",
      "num_attributes     4.4720      7.961      0.562      0.576     -11.335      20.279\n",
      "num_categories     9.3960      4.868      1.930      0.057      -0.269      19.061\n",
      "==============================================================================\n",
      "Omnibus:                       31.771   Durbin-Watson:                   1.231\n",
      "Prob(Omnibus):                  0.000   Jarque-Bera (JB):               56.551\n",
      "Skew:                           1.326   Prob(JB):                     5.25e-13\n",
      "Kurtosis:                       5.557   Cond. No.                     1.12e+04\n",
      "==============================================================================\n",
      "\n",
      "Notes:\n",
      "[1] Standard Errors assume that the covariance matrix of the errors is correctly specified.\n",
      "[2] The condition number is large, 1.12e+04. This might indicate that there are\n",
      "strong multicollinearity or other numerical problems.\n"
     ]
    }
   ],
   "source": [
    "model = lin_reg.fit()\n",
    "print_model = model.summary()\n",
    "print(print_model)"
   ]
  },
  {
   "cell_type": "markdown",
   "metadata": {},
   "source": [
    "Based on the adjusted R2 of this model (0.064), it is not a good model to predict the number of free bikes based on the presence and quality of information on restaurants, bars, or cafes nearby. The only signficant variable in the model is the average distance between pois and the bike station, and the coefficient suggests that as average distance increases the number of free bikes decreases. However, if you refer to my discussion in the joining_data file, I mention that distance may represent different things in the Yelp or Foursquare data (straight-line verus path-analysis), which may impact findings. I re-ran the model with only distance (and I kept the source variable as I felt excluding it could also bias the results as you would have two data points per query long/lat) and the adjusted R2 did not improve much.\n",
    "\n",
    "Of note, I used aggregate calculations per query as I felt that it better reflected the quality of data per query around each bike station and wanted to avoid potential correlation where each bike station had multiple data points that may not have been independent. Also I did not remove duplicates between queries (e.g. if station A & B had the same restaurant in their 1000 m radius, which could have been identified with the poi ID) as I felt it would take away from the information I could gather of the quality of data around each query and how that same poi may contribute to the number of free bikes at both of the stations. \n",
    "\n",
    "In my opinion, these results suggest that there may be more factors contributing to the number of free bikes at each bike station in Toronto than the presence of different restaurants, bars, or cafes in the area. I live in Toronto and from experience can say that certain neighbourhoods are frequented by different types of people who may not enjoy commuting with bikes to go to these kinds of establishments, whereas other neighbourhoods or cities may have different patterns (e.g. in Montreal I know many locals who would enjoy biking home after going to the bar with friends). "
   ]
  },
  {
   "cell_type": "code",
   "execution_count": 62,
   "metadata": {},
   "outputs": [
    {
     "name": "stdout",
     "output_type": "stream",
     "text": [
      "                            OLS Regression Results                            \n",
      "==============================================================================\n",
      "Dep. Variable:             free_bikes   R-squared:                       0.036\n",
      "Model:                            OLS   Adj. R-squared:                  0.026\n",
      "Method:                 Least Squares   F-statistic:                     3.678\n",
      "Date:                Sun, 27 Apr 2025   Prob (F-statistic):             0.0580\n",
      "Time:                        12:10:16   Log-Likelihood:                -345.74\n",
      "No. Observations:                 100   AIC:                             695.5\n",
      "Df Residuals:                      98   BIC:                             700.7\n",
      "Df Model:                           1                                         \n",
      "Covariance Type:            nonrobust                                         \n",
      "==============================================================================\n",
      "                 coef    std err          t      P>|t|      [0.025      0.975]\n",
      "------------------------------------------------------------------------------\n",
      "const         12.2852      2.375      5.172      0.000       7.572      16.999\n",
      "distance      -0.0055      0.003     -1.918      0.058      -0.011       0.000\n",
      "==============================================================================\n",
      "Omnibus:                       33.946   Durbin-Watson:                   1.132\n",
      "Prob(Omnibus):                  0.000   Jarque-Bera (JB):               59.180\n",
      "Skew:                           1.448   Prob(JB):                     1.41e-13\n",
      "Kurtosis:                       5.412   Cond. No.                     2.54e+03\n",
      "==============================================================================\n",
      "\n",
      "Notes:\n",
      "[1] Standard Errors assume that the covariance matrix of the errors is correctly specified.\n",
      "[2] The condition number is large, 2.54e+03. This might indicate that there are\n",
      "strong multicollinearity or other numerical problems.\n"
     ]
    }
   ],
   "source": [
    "X = grouped_alldata[['source_yelp', 'distance']]\n",
    "y = grouped_alldata[['free_bikes']]\n",
    "\n",
    "X = sm.add_constant(X) # adding a constant\n",
    "lin_reg = sm.OLS(y,X)\n",
    "model = lin_reg.fit()\n",
    "print_model = model.summary()\n",
    "print(print_model)"
   ]
  },
  {
   "cell_type": "markdown",
   "metadata": {},
   "source": [
    "# Stretch"
   ]
  },
  {
   "cell_type": "markdown",
   "metadata": {},
   "source": [
    "How can you turn the regression model into a classification model?"
   ]
  },
  {
   "cell_type": "markdown",
   "metadata": {},
   "source": [
    "You could turn this regression into a classification model by establishing a binary outcome (e.g. no free bikes v yes free bikes) and rerunning the analysis. It would use the same process of creating a dummy variable as I showed earlier when coding the source variable above. "
   ]
  }
 ],
 "metadata": {
  "kernelspec": {
   "display_name": "venv",
   "language": "python",
   "name": "python3"
  },
  "language_info": {
   "codemirror_mode": {
    "name": "ipython",
    "version": 3
   },
   "file_extension": ".py",
   "mimetype": "text/x-python",
   "name": "python",
   "nbconvert_exporter": "python",
   "pygments_lexer": "ipython3",
   "version": "3.12.8"
  }
 },
 "nbformat": 4,
 "nbformat_minor": 4
}
