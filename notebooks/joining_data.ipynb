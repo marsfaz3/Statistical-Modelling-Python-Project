{
 "cells": [
  {
   "cell_type": "markdown",
   "metadata": {},
   "source": [
    "Join the data from Part 1 with the data from Part 2 to create a new dataframe."
   ]
  },
  {
   "cell_type": "code",
   "execution_count": 89,
   "metadata": {},
   "outputs": [],
   "source": [
    "import pandas as pd\n",
    "import seaborn as sns\n",
    "from sqlalchemy import create_engine"
   ]
  },
  {
   "cell_type": "code",
   "execution_count": null,
   "metadata": {},
   "outputs": [],
   "source": [
    "# Read CSV files into dataframes\n",
    "df1 = pd.read_csv('../data/foursquare_results.csv')\n",
    "df2 = pd.read_csv('../data/yelp_results.csv')"
   ]
  },
  {
   "cell_type": "code",
   "execution_count": 51,
   "metadata": {},
   "outputs": [
    {
     "data": {
      "text/html": [
       "<div>\n",
       "<style scoped>\n",
       "    .dataframe tbody tr th:only-of-type {\n",
       "        vertical-align: middle;\n",
       "    }\n",
       "\n",
       "    .dataframe tbody tr th {\n",
       "        vertical-align: top;\n",
       "    }\n",
       "\n",
       "    .dataframe thead th {\n",
       "        text-align: right;\n",
       "    }\n",
       "</style>\n",
       "<table border=\"1\" class=\"dataframe\">\n",
       "  <thead>\n",
       "    <tr style=\"text-align: right;\">\n",
       "      <th></th>\n",
       "      <th>query_latitude</th>\n",
       "      <th>query_longitude</th>\n",
       "      <th>num_categories</th>\n",
       "      <th>name</th>\n",
       "      <th>distance</th>\n",
       "      <th>fsqid</th>\n",
       "      <th>num_attributes</th>\n",
       "    </tr>\n",
       "  </thead>\n",
       "  <tbody>\n",
       "    <tr>\n",
       "      <th>0</th>\n",
       "      <td>43.685924</td>\n",
       "      <td>-79.376304</td>\n",
       "      <td>1</td>\n",
       "      <td>Rosedale's Finest</td>\n",
       "      <td>27</td>\n",
       "      <td>5f6f6dc999b0676341c2edd0</td>\n",
       "      <td>0</td>\n",
       "    </tr>\n",
       "    <tr>\n",
       "      <th>1</th>\n",
       "      <td>43.685924</td>\n",
       "      <td>-79.376304</td>\n",
       "      <td>3</td>\n",
       "      <td>Dolce Bakery</td>\n",
       "      <td>38</td>\n",
       "      <td>5f710453c2dbe370d739275e</td>\n",
       "      <td>0</td>\n",
       "    </tr>\n",
       "    <tr>\n",
       "      <th>2</th>\n",
       "      <td>43.685924</td>\n",
       "      <td>-79.376304</td>\n",
       "      <td>1</td>\n",
       "      <td>Kirkwood's Rib Joint</td>\n",
       "      <td>876</td>\n",
       "      <td>4c005620ad46c9b6e9568f66</td>\n",
       "      <td>0</td>\n",
       "    </tr>\n",
       "    <tr>\n",
       "      <th>3</th>\n",
       "      <td>43.685924</td>\n",
       "      <td>-79.376304</td>\n",
       "      <td>1</td>\n",
       "      <td>Picnic Cafe &amp; Wine Shop</td>\n",
       "      <td>897</td>\n",
       "      <td>645fd57a10a5633876bb2c8f</td>\n",
       "      <td>0</td>\n",
       "    </tr>\n",
       "    <tr>\n",
       "      <th>4</th>\n",
       "      <td>43.685924</td>\n",
       "      <td>-79.376304</td>\n",
       "      <td>3</td>\n",
       "      <td>Holly Berry Fair</td>\n",
       "      <td>381</td>\n",
       "      <td>396cd48d15ba4cac949057c4</td>\n",
       "      <td>0</td>\n",
       "    </tr>\n",
       "  </tbody>\n",
       "</table>\n",
       "</div>"
      ],
      "text/plain": [
       "   query_latitude  query_longitude  num_categories                     name  \\\n",
       "0       43.685924       -79.376304               1        Rosedale's Finest   \n",
       "1       43.685924       -79.376304               3             Dolce Bakery   \n",
       "2       43.685924       -79.376304               1     Kirkwood's Rib Joint   \n",
       "3       43.685924       -79.376304               1  Picnic Cafe & Wine Shop   \n",
       "4       43.685924       -79.376304               3         Holly Berry Fair   \n",
       "\n",
       "   distance                     fsqid  num_attributes  \n",
       "0        27  5f6f6dc999b0676341c2edd0               0  \n",
       "1        38  5f710453c2dbe370d739275e               0  \n",
       "2       876  4c005620ad46c9b6e9568f66               0  \n",
       "3       897  645fd57a10a5633876bb2c8f               0  \n",
       "4       381  396cd48d15ba4cac949057c4               0  "
      ]
     },
     "execution_count": 51,
     "metadata": {},
     "output_type": "execute_result"
    }
   ],
   "source": [
    "df1.head()"
   ]
  },
  {
   "cell_type": "code",
   "execution_count": 52,
   "metadata": {},
   "outputs": [
    {
     "name": "stdout",
     "output_type": "stream",
     "text": [
      "(2194, 7)\n"
     ]
    }
   ],
   "source": [
    "print(df1.shape)"
   ]
  },
  {
   "cell_type": "code",
   "execution_count": 66,
   "metadata": {},
   "outputs": [
    {
     "data": {
      "text/plain": [
       "0"
      ]
     },
     "execution_count": 66,
     "metadata": {},
     "output_type": "execute_result"
    }
   ],
   "source": [
    "len(df1)-len(df1.drop_duplicates())"
   ]
  },
  {
   "cell_type": "code",
   "execution_count": 53,
   "metadata": {},
   "outputs": [
    {
     "data": {
      "text/html": [
       "<div>\n",
       "<style scoped>\n",
       "    .dataframe tbody tr th:only-of-type {\n",
       "        vertical-align: middle;\n",
       "    }\n",
       "\n",
       "    .dataframe tbody tr th {\n",
       "        vertical-align: top;\n",
       "    }\n",
       "\n",
       "    .dataframe thead th {\n",
       "        text-align: right;\n",
       "    }\n",
       "</style>\n",
       "<table border=\"1\" class=\"dataframe\">\n",
       "  <thead>\n",
       "    <tr style=\"text-align: right;\">\n",
       "      <th></th>\n",
       "      <th>query_latitude</th>\n",
       "      <th>query_longitude</th>\n",
       "      <th>num_categories</th>\n",
       "      <th>name</th>\n",
       "      <th>distance</th>\n",
       "      <th>num_attributes</th>\n",
       "    </tr>\n",
       "  </thead>\n",
       "  <tbody>\n",
       "    <tr>\n",
       "      <th>0</th>\n",
       "      <td>43.685924</td>\n",
       "      <td>-79.376304</td>\n",
       "      <td>1</td>\n",
       "      <td>megumi-mazesoba-toronto</td>\n",
       "      <td>1302.485544</td>\n",
       "      <td>0</td>\n",
       "    </tr>\n",
       "    <tr>\n",
       "      <th>1</th>\n",
       "      <td>43.685924</td>\n",
       "      <td>-79.376304</td>\n",
       "      <td>3</td>\n",
       "      <td>mineral-toronto</td>\n",
       "      <td>1402.327352</td>\n",
       "      <td>0</td>\n",
       "    </tr>\n",
       "    <tr>\n",
       "      <th>2</th>\n",
       "      <td>43.685924</td>\n",
       "      <td>-79.376304</td>\n",
       "      <td>1</td>\n",
       "      <td>ryus-noodle-bar-toronto-7</td>\n",
       "      <td>1701.034869</td>\n",
       "      <td>1</td>\n",
       "    </tr>\n",
       "    <tr>\n",
       "      <th>3</th>\n",
       "      <td>43.685924</td>\n",
       "      <td>-79.376304</td>\n",
       "      <td>1</td>\n",
       "      <td>black-camel-toronto-2</td>\n",
       "      <td>1426.509564</td>\n",
       "      <td>0</td>\n",
       "    </tr>\n",
       "    <tr>\n",
       "      <th>4</th>\n",
       "      <td>43.685924</td>\n",
       "      <td>-79.376304</td>\n",
       "      <td>3</td>\n",
       "      <td>dolce-bakery-toronto</td>\n",
       "      <td>25.650316</td>\n",
       "      <td>1</td>\n",
       "    </tr>\n",
       "  </tbody>\n",
       "</table>\n",
       "</div>"
      ],
      "text/plain": [
       "   query_latitude  query_longitude  num_categories                       name  \\\n",
       "0       43.685924       -79.376304               1    megumi-mazesoba-toronto   \n",
       "1       43.685924       -79.376304               3            mineral-toronto   \n",
       "2       43.685924       -79.376304               1  ryus-noodle-bar-toronto-7   \n",
       "3       43.685924       -79.376304               1      black-camel-toronto-2   \n",
       "4       43.685924       -79.376304               3       dolce-bakery-toronto   \n",
       "\n",
       "      distance  num_attributes  \n",
       "0  1302.485544               0  \n",
       "1  1402.327352               0  \n",
       "2  1701.034869               1  \n",
       "3  1426.509564               0  \n",
       "4    25.650316               1  "
      ]
     },
     "execution_count": 53,
     "metadata": {},
     "output_type": "execute_result"
    }
   ],
   "source": [
    "df2.head()"
   ]
  },
  {
   "cell_type": "code",
   "execution_count": 37,
   "metadata": {},
   "outputs": [
    {
     "name": "stdout",
     "output_type": "stream",
     "text": [
      "(2458, 7)\n"
     ]
    }
   ],
   "source": [
    "print(df2.shape)"
   ]
  },
  {
   "cell_type": "code",
   "execution_count": 28,
   "metadata": {},
   "outputs": [
    {
     "name": "stdout",
     "output_type": "stream",
     "text": [
      "query_latitude     float64\n",
      "query_longitude    float64\n",
      "num_categories       int64\n",
      "name                object\n",
      "distance             int64\n",
      "fsqid               object\n",
      "num_attributes       int64\n",
      "dtype: object\n"
     ]
    }
   ],
   "source": [
    "print(df1.dtypes)"
   ]
  },
  {
   "cell_type": "code",
   "execution_count": 31,
   "metadata": {},
   "outputs": [
    {
     "name": "stdout",
     "output_type": "stream",
     "text": [
      "query_latitude     float64\n",
      "query_longitude    float64\n",
      "num_categories       int64\n",
      "name                object\n",
      "distance             int64\n",
      "num_attributes       int64\n",
      "dtype: object\n"
     ]
    }
   ],
   "source": [
    "print(df2.dtypes)"
   ]
  },
  {
   "cell_type": "code",
   "execution_count": 65,
   "metadata": {},
   "outputs": [
    {
     "data": {
      "text/plain": [
       "0"
      ]
     },
     "execution_count": 65,
     "metadata": {},
     "output_type": "execute_result"
    }
   ],
   "source": [
    "len(df2)-len(df2.drop_duplicates())"
   ]
  },
  {
   "cell_type": "code",
   "execution_count": 30,
   "metadata": {},
   "outputs": [],
   "source": [
    "df2['distance'] = df2['distance'].astype(int)"
   ]
  },
  {
   "cell_type": "code",
   "execution_count": 54,
   "metadata": {},
   "outputs": [],
   "source": [
    "df1 = df1.drop(columns = 'fsqid')\n",
    "df1['source'] = 'foursquare'\n",
    "df2['source'] = 'yelp'"
   ]
  },
  {
   "cell_type": "code",
   "execution_count": 55,
   "metadata": {},
   "outputs": [
    {
     "name": "stdout",
     "output_type": "stream",
     "text": [
      "      query_latitude  query_longitude  num_categories  \\\n",
      "0          43.685924       -79.376304               1   \n",
      "1          43.685924       -79.376304               3   \n",
      "2          43.685924       -79.376304               1   \n",
      "3          43.685924       -79.376304               1   \n",
      "4          43.685924       -79.376304               3   \n",
      "...              ...              ...             ...   \n",
      "2453       43.649192       -79.383632               1   \n",
      "2454       43.649192       -79.383632               2   \n",
      "2455       43.649192       -79.383632               3   \n",
      "2456       43.649192       -79.383632               1   \n",
      "2457       43.649192       -79.383632               2   \n",
      "\n",
      "                                  name     distance  num_attributes  \\\n",
      "0                    Rosedale's Finest    27.000000               0   \n",
      "1                         Dolce Bakery    38.000000               0   \n",
      "2                 Kirkwood's Rib Joint   876.000000               0   \n",
      "3              Picnic Cafe & Wine Shop   897.000000               0   \n",
      "4                     Holly Berry Fair   381.000000               0   \n",
      "...                                ...          ...             ...   \n",
      "2453  jacobs-and-co-steakhouse-toronto  1232.682702               1   \n",
      "2454                 katsuya-toronto-5  1259.535103               1   \n",
      "2455            the-carbon-bar-toronto   831.895487               1   \n",
      "2456                   carisma-toronto   634.411930               1   \n",
      "2457       george-restaurant-toronto-3   881.093129               1   \n",
      "\n",
      "          source  \n",
      "0     foursquare  \n",
      "1     foursquare  \n",
      "2     foursquare  \n",
      "3     foursquare  \n",
      "4     foursquare  \n",
      "...          ...  \n",
      "2453        yelp  \n",
      "2454        yelp  \n",
      "2455        yelp  \n",
      "2456        yelp  \n",
      "2457        yelp  \n",
      "\n",
      "[4652 rows x 7 columns]\n"
     ]
    }
   ],
   "source": [
    "poidata = pd.concat([df1, df2])\n",
    "print(poidata)"
   ]
  },
  {
   "cell_type": "code",
   "execution_count": 63,
   "metadata": {},
   "outputs": [
    {
     "data": {
      "text/plain": [
       "0"
      ]
     },
     "execution_count": 63,
     "metadata": {},
     "output_type": "execute_result"
    }
   ],
   "source": [
    "poidata.duplicated()\n",
    "len(poidata)-len(poidata.drop_duplicates())"
   ]
  },
  {
   "cell_type": "markdown",
   "metadata": {},
   "source": [
    "Provide a visualization that you used as part of your EDA process. Explain the initial pattern or relationship you discoved through this visualization. "
   ]
  },
  {
   "cell_type": "code",
   "execution_count": 56,
   "metadata": {},
   "outputs": [
    {
     "name": "stdout",
     "output_type": "stream",
     "text": [
      "                                              distance  name  num_attributes  \\\n",
      "query_longitude query_latitude source                                          \n",
      "-79.503016      43.662540      foursquare   660.266667    15           0.000   \n",
      "                               yelp        1192.041572    50           0.440   \n",
      "-79.500500      43.774100      foursquare   425.480000    50           0.000   \n",
      "                               yelp         599.928497    50           0.580   \n",
      "-79.500027      43.760740      foursquare   766.826087    46           0.000   \n",
      "...                                                ...   ...             ...   \n",
      "-79.229204      43.726902      yelp        1159.456088    50           0.480   \n",
      "-79.209707      43.745311      foursquare   675.485714    35           0.000   \n",
      "                               yelp         975.419987    50           0.400   \n",
      "-79.130120      43.780550      foursquare   647.500000     6           0.000   \n",
      "                               yelp        1058.502106     8           0.375   \n",
      "\n",
      "                                           num_categories  \n",
      "query_longitude query_latitude source                      \n",
      "-79.503016      43.662540      foursquare        1.600000  \n",
      "                               yelp              2.000000  \n",
      "-79.500500      43.774100      foursquare        1.660000  \n",
      "                               yelp              1.800000  \n",
      "-79.500027      43.760740      foursquare        1.565217  \n",
      "...                                                   ...  \n",
      "-79.229204      43.726902      yelp              2.040000  \n",
      "-79.209707      43.745311      foursquare        1.571429  \n",
      "                               yelp              1.940000  \n",
      "-79.130120      43.780550      foursquare        1.500000  \n",
      "                               yelp              1.625000  \n",
      "\n",
      "[100 rows x 4 columns]\n"
     ]
    }
   ],
   "source": [
    "groupedpoi = poidata.groupby(['query_longitude', 'query_latitude', 'source']).agg({\n",
    "    'distance': 'mean',\n",
    "    'name': 'count',\n",
    "    'num_attributes': 'mean',\n",
    "    'num_categories': 'mean'\n",
    "})\n",
    "\n",
    "print(groupedpoi)\n"
   ]
  },
  {
   "cell_type": "code",
   "execution_count": null,
   "metadata": {},
   "outputs": [],
   "source": [
    "poidata.groupby(['query_longitude', 'query_latitude', 'source'])['distance'].describe()"
   ]
  },
  {
   "cell_type": "code",
   "execution_count": 80,
   "metadata": {},
   "outputs": [
    {
     "data": {
      "text/html": [
       "<div>\n",
       "<style scoped>\n",
       "    .dataframe tbody tr th:only-of-type {\n",
       "        vertical-align: middle;\n",
       "    }\n",
       "\n",
       "    .dataframe tbody tr th {\n",
       "        vertical-align: top;\n",
       "    }\n",
       "\n",
       "    .dataframe thead th {\n",
       "        text-align: right;\n",
       "    }\n",
       "</style>\n",
       "<table border=\"1\" class=\"dataframe\">\n",
       "  <thead>\n",
       "    <tr style=\"text-align: right;\">\n",
       "      <th></th>\n",
       "      <th></th>\n",
       "      <th></th>\n",
       "      <th>count</th>\n",
       "      <th>mean</th>\n",
       "      <th>std</th>\n",
       "      <th>min</th>\n",
       "      <th>25%</th>\n",
       "      <th>50%</th>\n",
       "      <th>75%</th>\n",
       "      <th>max</th>\n",
       "    </tr>\n",
       "    <tr>\n",
       "      <th>query_longitude</th>\n",
       "      <th>query_latitude</th>\n",
       "      <th>source</th>\n",
       "      <th></th>\n",
       "      <th></th>\n",
       "      <th></th>\n",
       "      <th></th>\n",
       "      <th></th>\n",
       "      <th></th>\n",
       "      <th></th>\n",
       "      <th></th>\n",
       "    </tr>\n",
       "  </thead>\n",
       "  <tbody>\n",
       "    <tr>\n",
       "      <th rowspan=\"2\" valign=\"top\">-79.503016</th>\n",
       "      <th rowspan=\"2\" valign=\"top\">43.662540</th>\n",
       "      <th>foursquare</th>\n",
       "      <td>15.0</td>\n",
       "      <td>0.000</td>\n",
       "      <td>0.000000</td>\n",
       "      <td>0.0</td>\n",
       "      <td>0.0</td>\n",
       "      <td>0.0</td>\n",
       "      <td>0.0</td>\n",
       "      <td>0.0</td>\n",
       "    </tr>\n",
       "    <tr>\n",
       "      <th>yelp</th>\n",
       "      <td>50.0</td>\n",
       "      <td>0.440</td>\n",
       "      <td>0.577115</td>\n",
       "      <td>0.0</td>\n",
       "      <td>0.0</td>\n",
       "      <td>0.0</td>\n",
       "      <td>1.0</td>\n",
       "      <td>2.0</td>\n",
       "    </tr>\n",
       "    <tr>\n",
       "      <th rowspan=\"2\" valign=\"top\">-79.500500</th>\n",
       "      <th rowspan=\"2\" valign=\"top\">43.774100</th>\n",
       "      <th>foursquare</th>\n",
       "      <td>50.0</td>\n",
       "      <td>0.000</td>\n",
       "      <td>0.000000</td>\n",
       "      <td>0.0</td>\n",
       "      <td>0.0</td>\n",
       "      <td>0.0</td>\n",
       "      <td>0.0</td>\n",
       "      <td>0.0</td>\n",
       "    </tr>\n",
       "    <tr>\n",
       "      <th>yelp</th>\n",
       "      <td>50.0</td>\n",
       "      <td>0.580</td>\n",
       "      <td>0.498569</td>\n",
       "      <td>0.0</td>\n",
       "      <td>0.0</td>\n",
       "      <td>1.0</td>\n",
       "      <td>1.0</td>\n",
       "      <td>1.0</td>\n",
       "    </tr>\n",
       "    <tr>\n",
       "      <th>-79.500027</th>\n",
       "      <th>43.760740</th>\n",
       "      <th>foursquare</th>\n",
       "      <td>46.0</td>\n",
       "      <td>0.000</td>\n",
       "      <td>0.000000</td>\n",
       "      <td>0.0</td>\n",
       "      <td>0.0</td>\n",
       "      <td>0.0</td>\n",
       "      <td>0.0</td>\n",
       "      <td>0.0</td>\n",
       "    </tr>\n",
       "    <tr>\n",
       "      <th>...</th>\n",
       "      <th>...</th>\n",
       "      <th>...</th>\n",
       "      <td>...</td>\n",
       "      <td>...</td>\n",
       "      <td>...</td>\n",
       "      <td>...</td>\n",
       "      <td>...</td>\n",
       "      <td>...</td>\n",
       "      <td>...</td>\n",
       "      <td>...</td>\n",
       "    </tr>\n",
       "    <tr>\n",
       "      <th>-79.229204</th>\n",
       "      <th>43.726902</th>\n",
       "      <th>yelp</th>\n",
       "      <td>50.0</td>\n",
       "      <td>0.480</td>\n",
       "      <td>0.504672</td>\n",
       "      <td>0.0</td>\n",
       "      <td>0.0</td>\n",
       "      <td>0.0</td>\n",
       "      <td>1.0</td>\n",
       "      <td>1.0</td>\n",
       "    </tr>\n",
       "    <tr>\n",
       "      <th rowspan=\"2\" valign=\"top\">-79.209707</th>\n",
       "      <th rowspan=\"2\" valign=\"top\">43.745311</th>\n",
       "      <th>foursquare</th>\n",
       "      <td>35.0</td>\n",
       "      <td>0.000</td>\n",
       "      <td>0.000000</td>\n",
       "      <td>0.0</td>\n",
       "      <td>0.0</td>\n",
       "      <td>0.0</td>\n",
       "      <td>0.0</td>\n",
       "      <td>0.0</td>\n",
       "    </tr>\n",
       "    <tr>\n",
       "      <th>yelp</th>\n",
       "      <td>50.0</td>\n",
       "      <td>0.400</td>\n",
       "      <td>0.494872</td>\n",
       "      <td>0.0</td>\n",
       "      <td>0.0</td>\n",
       "      <td>0.0</td>\n",
       "      <td>1.0</td>\n",
       "      <td>1.0</td>\n",
       "    </tr>\n",
       "    <tr>\n",
       "      <th rowspan=\"2\" valign=\"top\">-79.130120</th>\n",
       "      <th rowspan=\"2\" valign=\"top\">43.780550</th>\n",
       "      <th>foursquare</th>\n",
       "      <td>6.0</td>\n",
       "      <td>0.000</td>\n",
       "      <td>0.000000</td>\n",
       "      <td>0.0</td>\n",
       "      <td>0.0</td>\n",
       "      <td>0.0</td>\n",
       "      <td>0.0</td>\n",
       "      <td>0.0</td>\n",
       "    </tr>\n",
       "    <tr>\n",
       "      <th>yelp</th>\n",
       "      <td>8.0</td>\n",
       "      <td>0.375</td>\n",
       "      <td>0.517549</td>\n",
       "      <td>0.0</td>\n",
       "      <td>0.0</td>\n",
       "      <td>0.0</td>\n",
       "      <td>1.0</td>\n",
       "      <td>1.0</td>\n",
       "    </tr>\n",
       "  </tbody>\n",
       "</table>\n",
       "<p>100 rows × 8 columns</p>\n",
       "</div>"
      ],
      "text/plain": [
       "                                           count   mean       std  min  25%  \\\n",
       "query_longitude query_latitude source                                         \n",
       "-79.503016      43.662540      foursquare   15.0  0.000  0.000000  0.0  0.0   \n",
       "                               yelp         50.0  0.440  0.577115  0.0  0.0   \n",
       "-79.500500      43.774100      foursquare   50.0  0.000  0.000000  0.0  0.0   \n",
       "                               yelp         50.0  0.580  0.498569  0.0  0.0   \n",
       "-79.500027      43.760740      foursquare   46.0  0.000  0.000000  0.0  0.0   \n",
       "...                                          ...    ...       ...  ...  ...   \n",
       "-79.229204      43.726902      yelp         50.0  0.480  0.504672  0.0  0.0   \n",
       "-79.209707      43.745311      foursquare   35.0  0.000  0.000000  0.0  0.0   \n",
       "                               yelp         50.0  0.400  0.494872  0.0  0.0   \n",
       "-79.130120      43.780550      foursquare    6.0  0.000  0.000000  0.0  0.0   \n",
       "                               yelp          8.0  0.375  0.517549  0.0  0.0   \n",
       "\n",
       "                                           50%  75%  max  \n",
       "query_longitude query_latitude source                     \n",
       "-79.503016      43.662540      foursquare  0.0  0.0  0.0  \n",
       "                               yelp        0.0  1.0  2.0  \n",
       "-79.500500      43.774100      foursquare  0.0  0.0  0.0  \n",
       "                               yelp        1.0  1.0  1.0  \n",
       "-79.500027      43.760740      foursquare  0.0  0.0  0.0  \n",
       "...                                        ...  ...  ...  \n",
       "-79.229204      43.726902      yelp        0.0  1.0  1.0  \n",
       "-79.209707      43.745311      foursquare  0.0  0.0  0.0  \n",
       "                               yelp        0.0  1.0  1.0  \n",
       "-79.130120      43.780550      foursquare  0.0  0.0  0.0  \n",
       "                               yelp        0.0  1.0  1.0  \n",
       "\n",
       "[100 rows x 8 columns]"
      ]
     },
     "execution_count": 80,
     "metadata": {},
     "output_type": "execute_result"
    }
   ],
   "source": [
    "poidata.groupby(['query_longitude', 'query_latitude', 'source'])['num_attributes'].describe()"
   ]
  },
  {
   "cell_type": "code",
   "execution_count": 81,
   "metadata": {},
   "outputs": [
    {
     "data": {
      "text/html": [
       "<div>\n",
       "<style scoped>\n",
       "    .dataframe tbody tr th:only-of-type {\n",
       "        vertical-align: middle;\n",
       "    }\n",
       "\n",
       "    .dataframe tbody tr th {\n",
       "        vertical-align: top;\n",
       "    }\n",
       "\n",
       "    .dataframe thead th {\n",
       "        text-align: right;\n",
       "    }\n",
       "</style>\n",
       "<table border=\"1\" class=\"dataframe\">\n",
       "  <thead>\n",
       "    <tr style=\"text-align: right;\">\n",
       "      <th></th>\n",
       "      <th></th>\n",
       "      <th></th>\n",
       "      <th>count</th>\n",
       "      <th>mean</th>\n",
       "      <th>std</th>\n",
       "      <th>min</th>\n",
       "      <th>25%</th>\n",
       "      <th>50%</th>\n",
       "      <th>75%</th>\n",
       "      <th>max</th>\n",
       "    </tr>\n",
       "    <tr>\n",
       "      <th>query_longitude</th>\n",
       "      <th>query_latitude</th>\n",
       "      <th>source</th>\n",
       "      <th></th>\n",
       "      <th></th>\n",
       "      <th></th>\n",
       "      <th></th>\n",
       "      <th></th>\n",
       "      <th></th>\n",
       "      <th></th>\n",
       "      <th></th>\n",
       "    </tr>\n",
       "  </thead>\n",
       "  <tbody>\n",
       "    <tr>\n",
       "      <th rowspan=\"2\" valign=\"top\">-79.503016</th>\n",
       "      <th rowspan=\"2\" valign=\"top\">43.662540</th>\n",
       "      <th>foursquare</th>\n",
       "      <td>15.0</td>\n",
       "      <td>1.600000</td>\n",
       "      <td>0.632456</td>\n",
       "      <td>1.0</td>\n",
       "      <td>1.0</td>\n",
       "      <td>2.0</td>\n",
       "      <td>2.00</td>\n",
       "      <td>3.0</td>\n",
       "    </tr>\n",
       "    <tr>\n",
       "      <th>yelp</th>\n",
       "      <td>50.0</td>\n",
       "      <td>2.000000</td>\n",
       "      <td>0.903508</td>\n",
       "      <td>1.0</td>\n",
       "      <td>1.0</td>\n",
       "      <td>2.0</td>\n",
       "      <td>3.00</td>\n",
       "      <td>4.0</td>\n",
       "    </tr>\n",
       "    <tr>\n",
       "      <th rowspan=\"2\" valign=\"top\">-79.500500</th>\n",
       "      <th rowspan=\"2\" valign=\"top\">43.774100</th>\n",
       "      <th>foursquare</th>\n",
       "      <td>50.0</td>\n",
       "      <td>1.660000</td>\n",
       "      <td>0.717422</td>\n",
       "      <td>1.0</td>\n",
       "      <td>1.0</td>\n",
       "      <td>2.0</td>\n",
       "      <td>2.00</td>\n",
       "      <td>3.0</td>\n",
       "    </tr>\n",
       "    <tr>\n",
       "      <th>yelp</th>\n",
       "      <td>50.0</td>\n",
       "      <td>1.800000</td>\n",
       "      <td>0.880631</td>\n",
       "      <td>1.0</td>\n",
       "      <td>1.0</td>\n",
       "      <td>1.5</td>\n",
       "      <td>3.00</td>\n",
       "      <td>3.0</td>\n",
       "    </tr>\n",
       "    <tr>\n",
       "      <th>-79.500027</th>\n",
       "      <th>43.760740</th>\n",
       "      <th>foursquare</th>\n",
       "      <td>46.0</td>\n",
       "      <td>1.565217</td>\n",
       "      <td>0.749879</td>\n",
       "      <td>1.0</td>\n",
       "      <td>1.0</td>\n",
       "      <td>1.0</td>\n",
       "      <td>2.00</td>\n",
       "      <td>3.0</td>\n",
       "    </tr>\n",
       "    <tr>\n",
       "      <th>...</th>\n",
       "      <th>...</th>\n",
       "      <th>...</th>\n",
       "      <td>...</td>\n",
       "      <td>...</td>\n",
       "      <td>...</td>\n",
       "      <td>...</td>\n",
       "      <td>...</td>\n",
       "      <td>...</td>\n",
       "      <td>...</td>\n",
       "      <td>...</td>\n",
       "    </tr>\n",
       "    <tr>\n",
       "      <th>-79.229204</th>\n",
       "      <th>43.726902</th>\n",
       "      <th>yelp</th>\n",
       "      <td>50.0</td>\n",
       "      <td>2.040000</td>\n",
       "      <td>0.946745</td>\n",
       "      <td>1.0</td>\n",
       "      <td>1.0</td>\n",
       "      <td>2.0</td>\n",
       "      <td>3.00</td>\n",
       "      <td>3.0</td>\n",
       "    </tr>\n",
       "    <tr>\n",
       "      <th rowspan=\"2\" valign=\"top\">-79.209707</th>\n",
       "      <th rowspan=\"2\" valign=\"top\">43.745311</th>\n",
       "      <th>foursquare</th>\n",
       "      <td>35.0</td>\n",
       "      <td>1.571429</td>\n",
       "      <td>0.777844</td>\n",
       "      <td>1.0</td>\n",
       "      <td>1.0</td>\n",
       "      <td>1.0</td>\n",
       "      <td>2.00</td>\n",
       "      <td>3.0</td>\n",
       "    </tr>\n",
       "    <tr>\n",
       "      <th>yelp</th>\n",
       "      <td>50.0</td>\n",
       "      <td>1.940000</td>\n",
       "      <td>0.866850</td>\n",
       "      <td>1.0</td>\n",
       "      <td>1.0</td>\n",
       "      <td>2.0</td>\n",
       "      <td>3.00</td>\n",
       "      <td>3.0</td>\n",
       "    </tr>\n",
       "    <tr>\n",
       "      <th rowspan=\"2\" valign=\"top\">-79.130120</th>\n",
       "      <th rowspan=\"2\" valign=\"top\">43.780550</th>\n",
       "      <th>foursquare</th>\n",
       "      <td>6.0</td>\n",
       "      <td>1.500000</td>\n",
       "      <td>0.547723</td>\n",
       "      <td>1.0</td>\n",
       "      <td>1.0</td>\n",
       "      <td>1.5</td>\n",
       "      <td>2.00</td>\n",
       "      <td>2.0</td>\n",
       "    </tr>\n",
       "    <tr>\n",
       "      <th>yelp</th>\n",
       "      <td>8.0</td>\n",
       "      <td>1.625000</td>\n",
       "      <td>0.916125</td>\n",
       "      <td>1.0</td>\n",
       "      <td>1.0</td>\n",
       "      <td>1.0</td>\n",
       "      <td>2.25</td>\n",
       "      <td>3.0</td>\n",
       "    </tr>\n",
       "  </tbody>\n",
       "</table>\n",
       "<p>100 rows × 8 columns</p>\n",
       "</div>"
      ],
      "text/plain": [
       "                                           count      mean       std  min  \\\n",
       "query_longitude query_latitude source                                       \n",
       "-79.503016      43.662540      foursquare   15.0  1.600000  0.632456  1.0   \n",
       "                               yelp         50.0  2.000000  0.903508  1.0   \n",
       "-79.500500      43.774100      foursquare   50.0  1.660000  0.717422  1.0   \n",
       "                               yelp         50.0  1.800000  0.880631  1.0   \n",
       "-79.500027      43.760740      foursquare   46.0  1.565217  0.749879  1.0   \n",
       "...                                          ...       ...       ...  ...   \n",
       "-79.229204      43.726902      yelp         50.0  2.040000  0.946745  1.0   \n",
       "-79.209707      43.745311      foursquare   35.0  1.571429  0.777844  1.0   \n",
       "                               yelp         50.0  1.940000  0.866850  1.0   \n",
       "-79.130120      43.780550      foursquare    6.0  1.500000  0.547723  1.0   \n",
       "                               yelp          8.0  1.625000  0.916125  1.0   \n",
       "\n",
       "                                           25%  50%   75%  max  \n",
       "query_longitude query_latitude source                           \n",
       "-79.503016      43.662540      foursquare  1.0  2.0  2.00  3.0  \n",
       "                               yelp        1.0  2.0  3.00  4.0  \n",
       "-79.500500      43.774100      foursquare  1.0  2.0  2.00  3.0  \n",
       "                               yelp        1.0  1.5  3.00  3.0  \n",
       "-79.500027      43.760740      foursquare  1.0  1.0  2.00  3.0  \n",
       "...                                        ...  ...   ...  ...  \n",
       "-79.229204      43.726902      yelp        1.0  2.0  3.00  3.0  \n",
       "-79.209707      43.745311      foursquare  1.0  1.0  2.00  3.0  \n",
       "                               yelp        1.0  2.0  3.00  3.0  \n",
       "-79.130120      43.780550      foursquare  1.0  1.5  2.00  2.0  \n",
       "                               yelp        1.0  1.0  2.25  3.0  \n",
       "\n",
       "[100 rows x 8 columns]"
      ]
     },
     "execution_count": 81,
     "metadata": {},
     "output_type": "execute_result"
    }
   ],
   "source": [
    "poidata.groupby(['query_longitude', 'query_latitude', 'source'])['num_categories'].describe()"
   ]
  },
  {
   "cell_type": "code",
   "execution_count": 71,
   "metadata": {},
   "outputs": [
    {
     "data": {
      "text/html": [
       "<div>\n",
       "<style scoped>\n",
       "    .dataframe tbody tr th:only-of-type {\n",
       "        vertical-align: middle;\n",
       "    }\n",
       "\n",
       "    .dataframe tbody tr th {\n",
       "        vertical-align: top;\n",
       "    }\n",
       "\n",
       "    .dataframe thead th {\n",
       "        text-align: right;\n",
       "    }\n",
       "</style>\n",
       "<table border=\"1\" class=\"dataframe\">\n",
       "  <thead>\n",
       "    <tr style=\"text-align: right;\">\n",
       "      <th></th>\n",
       "      <th></th>\n",
       "      <th></th>\n",
       "      <th>count</th>\n",
       "      <th>unique</th>\n",
       "      <th>top</th>\n",
       "      <th>freq</th>\n",
       "    </tr>\n",
       "    <tr>\n",
       "      <th>query_longitude</th>\n",
       "      <th>query_latitude</th>\n",
       "      <th>source</th>\n",
       "      <th></th>\n",
       "      <th></th>\n",
       "      <th></th>\n",
       "      <th></th>\n",
       "    </tr>\n",
       "  </thead>\n",
       "  <tbody>\n",
       "    <tr>\n",
       "      <th rowspan=\"2\" valign=\"top\">-79.503016</th>\n",
       "      <th rowspan=\"2\" valign=\"top\">43.662540</th>\n",
       "      <th>foursquare</th>\n",
       "      <td>15</td>\n",
       "      <td>13</td>\n",
       "      <td>Ma Maison</td>\n",
       "      <td>2</td>\n",
       "    </tr>\n",
       "    <tr>\n",
       "      <th>yelp</th>\n",
       "      <td>50</td>\n",
       "      <td>50</td>\n",
       "      <td>campo-toronto</td>\n",
       "      <td>1</td>\n",
       "    </tr>\n",
       "    <tr>\n",
       "      <th rowspan=\"2\" valign=\"top\">-79.500500</th>\n",
       "      <th rowspan=\"2\" valign=\"top\">43.774100</th>\n",
       "      <th>foursquare</th>\n",
       "      <td>50</td>\n",
       "      <td>49</td>\n",
       "      <td>Subway</td>\n",
       "      <td>2</td>\n",
       "    </tr>\n",
       "    <tr>\n",
       "      <th>yelp</th>\n",
       "      <td>50</td>\n",
       "      <td>50</td>\n",
       "      <td>suliko-restaurant-concord</td>\n",
       "      <td>1</td>\n",
       "    </tr>\n",
       "    <tr>\n",
       "      <th>-79.500027</th>\n",
       "      <th>43.760740</th>\n",
       "      <th>foursquare</th>\n",
       "      <td>46</td>\n",
       "      <td>44</td>\n",
       "      <td>Tim Hortons</td>\n",
       "      <td>2</td>\n",
       "    </tr>\n",
       "    <tr>\n",
       "      <th>...</th>\n",
       "      <th>...</th>\n",
       "      <th>...</th>\n",
       "      <td>...</td>\n",
       "      <td>...</td>\n",
       "      <td>...</td>\n",
       "      <td>...</td>\n",
       "    </tr>\n",
       "    <tr>\n",
       "      <th>-79.229204</th>\n",
       "      <th>43.726902</th>\n",
       "      <th>yelp</th>\n",
       "      <td>50</td>\n",
       "      <td>50</td>\n",
       "      <td>il-fresco-scarborough</td>\n",
       "      <td>1</td>\n",
       "    </tr>\n",
       "    <tr>\n",
       "      <th rowspan=\"2\" valign=\"top\">-79.209707</th>\n",
       "      <th rowspan=\"2\" valign=\"top\">43.745311</th>\n",
       "      <th>foursquare</th>\n",
       "      <td>35</td>\n",
       "      <td>33</td>\n",
       "      <td>Tim Hortons</td>\n",
       "      <td>3</td>\n",
       "    </tr>\n",
       "    <tr>\n",
       "      <th>yelp</th>\n",
       "      <td>50</td>\n",
       "      <td>50</td>\n",
       "      <td>the-olde-stone-cottage-pub-and-patio-scarborough</td>\n",
       "      <td>1</td>\n",
       "    </tr>\n",
       "    <tr>\n",
       "      <th rowspan=\"2\" valign=\"top\">-79.130120</th>\n",
       "      <th rowspan=\"2\" valign=\"top\">43.780550</th>\n",
       "      <th>foursquare</th>\n",
       "      <td>6</td>\n",
       "      <td>6</td>\n",
       "      <td>Mr Beans Coffee Co</td>\n",
       "      <td>1</td>\n",
       "    </tr>\n",
       "    <tr>\n",
       "      <th>yelp</th>\n",
       "      <td>8</td>\n",
       "      <td>8</td>\n",
       "      <td>azumi-sushi-scarborough</td>\n",
       "      <td>1</td>\n",
       "    </tr>\n",
       "  </tbody>\n",
       "</table>\n",
       "<p>100 rows × 4 columns</p>\n",
       "</div>"
      ],
      "text/plain": [
       "                                          count unique  \\\n",
       "query_longitude query_latitude source                    \n",
       "-79.503016      43.662540      foursquare    15     13   \n",
       "                               yelp          50     50   \n",
       "-79.500500      43.774100      foursquare    50     49   \n",
       "                               yelp          50     50   \n",
       "-79.500027      43.760740      foursquare    46     44   \n",
       "...                                         ...    ...   \n",
       "-79.229204      43.726902      yelp          50     50   \n",
       "-79.209707      43.745311      foursquare    35     33   \n",
       "                               yelp          50     50   \n",
       "-79.130120      43.780550      foursquare     6      6   \n",
       "                               yelp           8      8   \n",
       "\n",
       "                                                                                        top  \\\n",
       "query_longitude query_latitude source                                                         \n",
       "-79.503016      43.662540      foursquare                                         Ma Maison   \n",
       "                               yelp                                           campo-toronto   \n",
       "-79.500500      43.774100      foursquare                                            Subway   \n",
       "                               yelp                               suliko-restaurant-concord   \n",
       "-79.500027      43.760740      foursquare                                       Tim Hortons   \n",
       "...                                                                                     ...   \n",
       "-79.229204      43.726902      yelp                                   il-fresco-scarborough   \n",
       "-79.209707      43.745311      foursquare                                       Tim Hortons   \n",
       "                               yelp        the-olde-stone-cottage-pub-and-patio-scarborough   \n",
       "-79.130120      43.780550      foursquare                                Mr Beans Coffee Co   \n",
       "                               yelp                                 azumi-sushi-scarborough   \n",
       "\n",
       "                                          freq  \n",
       "query_longitude query_latitude source           \n",
       "-79.503016      43.662540      foursquare    2  \n",
       "                               yelp          1  \n",
       "-79.500500      43.774100      foursquare    2  \n",
       "                               yelp          1  \n",
       "-79.500027      43.760740      foursquare    2  \n",
       "...                                        ...  \n",
       "-79.229204      43.726902      yelp          1  \n",
       "-79.209707      43.745311      foursquare    3  \n",
       "                               yelp          1  \n",
       "-79.130120      43.780550      foursquare    1  \n",
       "                               yelp          1  \n",
       "\n",
       "[100 rows x 4 columns]"
      ]
     },
     "execution_count": 71,
     "metadata": {},
     "output_type": "execute_result"
    }
   ],
   "source": [
    "poidata.groupby(['query_longitude', 'query_latitude', 'source'])['name'].describe()"
   ]
  },
  {
   "cell_type": "code",
   "execution_count": 76,
   "metadata": {},
   "outputs": [
    {
     "data": {
      "text/plain": [
       "<Axes: xlabel='distance', ylabel='Count'>"
      ]
     },
     "execution_count": 76,
     "metadata": {},
     "output_type": "execute_result"
    },
    {
     "data": {
      "image/png": "[encoded data removed]",
      "text/plain": [
       "<Figure size 640x480 with 1 Axes>"
      ]
     },
     "metadata": {},
     "output_type": "display_data"
    }
   ],
   "source": [
    "sns.histplot(df1['distance'])\n",
    "sns.histplot(df2['distance']) # Yelp radius was set to 1000--distance could mean travel distance along routes"
   ]
  },
  {
   "cell_type": "code",
   "execution_count": 77,
   "metadata": {},
   "outputs": [
    {
     "data": {
      "text/plain": [
       "<Axes: xlabel='num_categories', ylabel='Count'>"
      ]
     },
     "execution_count": 77,
     "metadata": {},
     "output_type": "execute_result"
    },
    {
     "data": {
      "image/png": "[encoded data removed]",
      "text/plain": [
       "<Figure size 640x480 with 1 Axes>"
      ]
     },
     "metadata": {},
     "output_type": "display_data"
    }
   ],
   "source": [
    "sns.histplot(df1['num_categories'])\n",
    "sns.histplot(df2['num_categories'])"
   ]
  },
  {
   "cell_type": "code",
   "execution_count": 78,
   "metadata": {},
   "outputs": [
    {
     "data": {
      "text/plain": [
       "<Axes: xlabel='num_attributes', ylabel='Count'>"
      ]
     },
     "execution_count": 78,
     "metadata": {},
     "output_type": "execute_result"
    },
    {
     "data": {
      "image/png": "[encoded data removed]",
      "text/plain": [
       "<Figure size 640x480 with 1 Axes>"
      ]
     },
     "metadata": {},
     "output_type": "display_data"
    }
   ],
   "source": [
    "sns.histplot(df1['num_attributes'])\n",
    "sns.histplot(df2['num_attributes'])"
   ]
  },
  {
   "cell_type": "code",
   "execution_count": 83,
   "metadata": {},
   "outputs": [
    {
     "data": {
      "text/html": [
       "<div>\n",
       "<style scoped>\n",
       "    .dataframe tbody tr th:only-of-type {\n",
       "        vertical-align: middle;\n",
       "    }\n",
       "\n",
       "    .dataframe tbody tr th {\n",
       "        vertical-align: top;\n",
       "    }\n",
       "\n",
       "    .dataframe thead th {\n",
       "        text-align: right;\n",
       "    }\n",
       "</style>\n",
       "<table border=\"1\" class=\"dataframe\">\n",
       "  <thead>\n",
       "    <tr style=\"text-align: right;\">\n",
       "      <th></th>\n",
       "      <th>query_latitude</th>\n",
       "      <th>query_longitude</th>\n",
       "      <th>num_categories</th>\n",
       "      <th>name</th>\n",
       "      <th>distance</th>\n",
       "      <th>num_attributes</th>\n",
       "      <th>source</th>\n",
       "    </tr>\n",
       "  </thead>\n",
       "  <tbody>\n",
       "    <tr>\n",
       "      <th>0</th>\n",
       "      <td>43.685924</td>\n",
       "      <td>-79.376304</td>\n",
       "      <td>1</td>\n",
       "      <td>Rosedale's Finest</td>\n",
       "      <td>27</td>\n",
       "      <td>0</td>\n",
       "      <td>foursquare</td>\n",
       "    </tr>\n",
       "    <tr>\n",
       "      <th>1471</th>\n",
       "      <td>43.690564</td>\n",
       "      <td>-79.326319</td>\n",
       "      <td>1</td>\n",
       "      <td>Abugida Restaurant &amp; Lounge</td>\n",
       "      <td>919</td>\n",
       "      <td>0</td>\n",
       "      <td>foursquare</td>\n",
       "    </tr>\n",
       "    <tr>\n",
       "      <th>1470</th>\n",
       "      <td>43.690564</td>\n",
       "      <td>-79.326319</td>\n",
       "      <td>2</td>\n",
       "      <td>The Wood Owl</td>\n",
       "      <td>899</td>\n",
       "      <td>0</td>\n",
       "      <td>foursquare</td>\n",
       "    </tr>\n",
       "    <tr>\n",
       "      <th>1469</th>\n",
       "      <td>43.690564</td>\n",
       "      <td>-79.326319</td>\n",
       "      <td>1</td>\n",
       "      <td>The Rib House</td>\n",
       "      <td>893</td>\n",
       "      <td>0</td>\n",
       "      <td>foursquare</td>\n",
       "    </tr>\n",
       "    <tr>\n",
       "      <th>1468</th>\n",
       "      <td>43.690564</td>\n",
       "      <td>-79.326319</td>\n",
       "      <td>3</td>\n",
       "      <td>Djerba la Douce</td>\n",
       "      <td>874</td>\n",
       "      <td>0</td>\n",
       "      <td>foursquare</td>\n",
       "    </tr>\n",
       "  </tbody>\n",
       "</table>\n",
       "</div>"
      ],
      "text/plain": [
       "      query_latitude  query_longitude  num_categories  \\\n",
       "0          43.685924       -79.376304               1   \n",
       "1471       43.690564       -79.326319               1   \n",
       "1470       43.690564       -79.326319               2   \n",
       "1469       43.690564       -79.326319               1   \n",
       "1468       43.690564       -79.326319               3   \n",
       "\n",
       "                             name  distance  num_attributes      source  \n",
       "0               Rosedale's Finest        27               0  foursquare  \n",
       "1471  Abugida Restaurant & Lounge       919               0  foursquare  \n",
       "1470                 The Wood Owl       899               0  foursquare  \n",
       "1469                The Rib House       893               0  foursquare  \n",
       "1468              Djerba la Douce       874               0  foursquare  "
      ]
     },
     "execution_count": 83,
     "metadata": {},
     "output_type": "execute_result"
    }
   ],
   "source": [
    "df1.sort_values(\"num_attributes\").head()"
   ]
  },
  {
   "cell_type": "code",
   "execution_count": 88,
   "metadata": {},
   "outputs": [
    {
     "data": {
      "text/plain": [
       "<Axes: xlabel='name', ylabel='Count'>"
      ]
     },
     "execution_count": 88,
     "metadata": {},
     "output_type": "execute_result"
    },
    {
     "data": {
      "image/png": "[encoded data removed]",
      "text/plain": [
       "<Figure size 640x480 with 1 Axes>"
      ]
     },
     "metadata": {},
     "output_type": "display_data"
    }
   ],
   "source": [
    "sns.histplot(df1.groupby(['query_longitude', 'query_latitude', 'source'])['name'].count())\n",
    "sns.histplot(df2.groupby(['query_longitude', 'query_latitude', 'source'])['name'].count())"
   ]
  },
  {
   "cell_type": "markdown",
   "metadata": {},
   "source": [
    "The initial pattern I see between Yelp and Foursquare is that Yelp has more rich data. They provide more specific breakdowns of pois by categories (Foursquare often provides more pois with only one category label). Additionally, the number of attributes/features provided by Yelp were often 1-2, but Foursquare did not provide any features in the dataset. Overall, Yelp maxed out at 50 pois per request (maximum allowed was 50), whereas Foursquare was not able to offer 50 pois for many requests at the same lat/long coordinates. Of note, for the Yelp data I indicated a maximum radius of 1000 meters, but the data indicates a distance up to 2000 meters. While I initially thought that the Yelp API may have not abided to my radius limits, I suspect that the Yelp distance is calculated based on travel distance along set paths but the Foursqaure distance seems to be calculated based on straight paths between the lat/long of the query and poi. This may create some difficulty when assessing the relationship between average poi distance and number of free bikes in the model."
   ]
  },
  {
   "cell_type": "markdown",
   "metadata": {},
   "source": [
    "# Database"
   ]
  },
  {
   "cell_type": "markdown",
   "metadata": {},
   "source": [
    "Put all your results in an SQLite3 database (remember, SQLite stores its databases as files in your local machine - make sure to create your database in your project's data/ directory!)"
   ]
  },
  {
   "cell_type": "code",
   "execution_count": 92,
   "metadata": {},
   "outputs": [
    {
     "data": {
      "text/plain": [
       "877"
      ]
     },
     "execution_count": 92,
     "metadata": {},
     "output_type": "execute_result"
    }
   ],
   "source": [
    "engine = create_engine('sqlite:///../data/bike_station_pois.db')\n",
    "\n",
    "# Specify the table name and database engine\n",
    "table_name = 'joined_pois'\n",
    "# Export the DataFrame to the SQLite database\n",
    "poidata.to_sql(table_name, engine, if_exists='replace', index=False)\n",
    "\n",
    "table_name = 'bike_stations'\n",
    "\n",
    "bs = pd.read_csv('../data/bike_stations.csv')\n",
    "\n",
    "bs.to_sql(table_name, engine, if_exists='replace', index=False)\n"
   ]
  },
  {
   "cell_type": "markdown",
   "metadata": {},
   "source": [
    "Look at the data before and after the join to validate your data."
   ]
  },
  {
   "cell_type": "markdown",
   "metadata": {},
   "source": [
    "Please see above for validation for shape, duplicates, etc. "
   ]
  }
 ],
 "metadata": {
  "kernelspec": {
   "display_name": "venv",
   "language": "python",
   "name": "python3"
  },
  "language_info": {
   "codemirror_mode": {
    "name": "ipython",
    "version": 3
   },
   "file_extension": ".py",
   "mimetype": "text/x-python",
   "name": "python",
   "nbconvert_exporter": "python",
   "pygments_lexer": "ipython3",
   "version": "3.12.8"
  }
 },
 "nbformat": 4,
 "nbformat_minor": 4
}
